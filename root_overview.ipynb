{
 "cells": [
  {
   "cell_type": "markdown",
   "id": "fdaee9b4",
   "metadata": {},
   "source": [
    "# Competitive Advantage COD AI Scrim Analyst - Root Overview"
   ]
  },
  {
   "cell_type": "markdown",
   "id": "6a17c759",
   "metadata": {},
   "source": [
    "This jupyter notebook describes all of the files and folders in the root directory (their purpose, their behavior, etc). This file should be continuously updated over time and regularly checked. As this project grows it will become more and more difficult to come back to later and update, and in the future others may work on it as well."
   ]
  },
  {
   "cell_type": "markdown",
   "id": "88ee43b1-d0e8-4f6d-9984-b64e348a2ce2",
   "metadata": {},
   "source": [
    "# Files"
   ]
  },
  {
   "cell_type": "markdown",
   "id": "6b79590c",
   "metadata": {},
   "source": [
    "### .gitignore"
   ]
  },
  {
   "cell_type": "markdown",
   "id": "5434e907",
   "metadata": {},
   "source": [
    "This file currently contains the GitHub python defaults and the JetBrains PyCharm defaults, as this is the IDE used for development."
   ]
  },
  {
   "cell_type": "markdown",
   "id": "bb7174be-adc9-41f9-89a0-8fa159d3f05a",
   "metadata": {},
   "source": [
    "### main.py"
   ]
  },
  {
   "cell_type": "markdown",
   "id": "88793239-462e-4320-9625-3f863c982850",
   "metadata": {},
   "source": [
    "This is the main loop."
   ]
  },
  {
   "cell_type": "markdown",
   "id": "07d4f374-6b46-4c17-8b49-5010b976d066",
   "metadata": {},
   "source": [
    "# Directories"
   ]
  },
  {
   "cell_type": "markdown",
   "id": "1fecbc5e",
   "metadata": {},
   "source": [
    "### models"
   ]
  },
  {
   "cell_type": "markdown",
   "id": "97752f54-b728-4b8b-ad69-c7577bcf565d",
   "metadata": {},
   "source": [
    "Contains subdirectories for each game, each containing trained models to perform various operations (classification, detection, OCR, etc).\n",
    "- mw3"
   ]
  },
  {
   "cell_type": "markdown",
   "id": "70e3fd3b-360e-4ac4-8f5d-c3fad2a2c8a1",
   "metadata": {},
   "source": [
    "### config"
   ]
  },
  {
   "cell_type": "markdown",
   "id": "dea7a4ab-d244-4b29-9035-196266e4d96f",
   "metadata": {},
   "source": [
    "Contains YAML files that contain all the needed parameters to run the program for each game.\n",
    "- mw3_config.yaml"
   ]
  },
  {
   "cell_type": "markdown",
   "id": "e7e47421-1546-4f67-8546-0247f080fb55",
   "metadata": {},
   "source": [
    "### engine (package)"
   ]
  },
  {
   "cell_type": "markdown",
   "id": "2ea504c2-4ac1-4e5c-a0c7-b9b97d54d5d6",
   "metadata": {},
   "source": [
    "This contains most of the python files that main.py imports its methods from."
   ]
  },
  {
   "cell_type": "markdown",
   "id": "a3d34ee5-79e1-4f13-91dd-329448ba9241",
   "metadata": {},
   "source": [
    "### training"
   ]
  },
  {
   "cell_type": "markdown",
   "id": "0c4e7425-cb85-40ed-9697-2e8330778a4b",
   "metadata": {},
   "source": [
    "This directory contains training scripts for various models and config files for them. It does NOT contain training data.\n",
    "- mw3\n",
    "    - classifier_training"
   ]
  },
  {
   "cell_type": "code",
   "execution_count": null,
   "id": "7f21cdcc-1de0-4c9b-964f-f456226f27ec",
   "metadata": {},
   "outputs": [],
   "source": []
  }
 ],
 "metadata": {
  "kernelspec": {
   "display_name": "Python 3 (ipykernel)",
   "language": "python",
   "name": "python3"
  },
  "language_info": {
   "codemirror_mode": {
    "name": "ipython",
    "version": 3
   },
   "file_extension": ".py",
   "mimetype": "text/x-python",
   "name": "python",
   "nbconvert_exporter": "python",
   "pygments_lexer": "ipython3",
   "version": "3.11.9"
  }
 },
 "nbformat": 4,
 "nbformat_minor": 5
}
