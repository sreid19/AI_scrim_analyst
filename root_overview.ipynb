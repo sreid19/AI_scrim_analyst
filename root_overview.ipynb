{
 "cells": [
  {
   "cell_type": "markdown",
   "id": "fdaee9b4",
   "metadata": {},
   "source": [
    "# Competitive Advantage COD AI Scrim Analyst - Root Overview"
   ]
  },
  {
   "cell_type": "markdown",
   "id": "6a17c759",
   "metadata": {},
   "source": [
    "This jupyter notebook describes all of the files and folders in the root directory (their purpose, their behavior, etc). This file should be continuously updated over time and regularly checked. As this project grows it will become more and more difficult to come back to later and update, and in the future others may work on it as well."
   ]
  },
  {
   "cell_type": "markdown",
   "id": "6b79590c",
   "metadata": {},
   "source": [
    "### .gitignore"
   ]
  },
  {
   "cell_type": "markdown",
   "id": "5434e907",
   "metadata": {},
   "source": [
    "This file currently contains the GitHub python defaults and the JetBrains PyCharm defaults, as this is the IDE used for development."
   ]
  },
  {
   "cell_type": "markdown",
   "id": "1fecbc5e",
   "metadata": {},
   "source": []
  }
 ],
 "metadata": {
  "kernelspec": {
   "display_name": "Python 3 (ipykernel)",
   "language": "python",
   "name": "python3"
  },
  "language_info": {
   "codemirror_mode": {
    "name": "ipython",
    "version": 3
   },
   "file_extension": ".py",
   "mimetype": "text/x-python",
   "name": "python",
   "nbconvert_exporter": "python",
   "pygments_lexer": "ipython3",
   "version": "3.9.12"
  }
 },
 "nbformat": 4,
 "nbformat_minor": 5
}
