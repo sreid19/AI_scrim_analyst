{
 "cells": [
  {
   "cell_type": "markdown",
   "id": "ed5945ad",
   "metadata": {},
   "source": [
    "# Plan for the Project"
   ]
  },
  {
   "cell_type": "markdown",
   "id": "084d3f41",
   "metadata": {},
   "source": [
    "## Overview"
   ]
  },
  {
   "cell_type": "markdown",
   "id": "64675928",
   "metadata": {},
   "source": [
    "- Classifier model (YOLOv8n) that determines what phase of the scrim is occurring\n",
    "    - These phases will be:\n",
    "        1. Loading screen\n",
    "        2. Codcaster or Spectator\n",
    "        3. Post game scoreboard\n",
    "        4. Anything else (Background)\n",
    "    - Runtime optimizations will include:\n",
    "        1. The classifier will be run every 60 frames\n",
    "            - SPECIFY TO USERS: WE EXPECT 1080P 60FPS UPLOADS\n",
    "         2. We will utilize detector models to confirm certain classifier results\n",
    "    - During the loading screen phase:\n",
    "        1. YOLOv8n detector model designed specifically for the loading screen will detect the map and mode"
   ]
  },
  {
   "cell_type": "code",
   "execution_count": null,
   "id": "9db0021d",
   "metadata": {},
   "outputs": [],
   "source": []
  }
 ],
 "metadata": {
  "kernelspec": {
   "display_name": "Python 3 (ipykernel)",
   "language": "python",
   "name": "python3"
  },
  "language_info": {
   "codemirror_mode": {
    "name": "ipython",
    "version": 3
   },
   "file_extension": ".py",
   "mimetype": "text/x-python",
   "name": "python",
   "nbconvert_exporter": "python",
   "pygments_lexer": "ipython3",
   "version": "3.9.12"
  }
 },
 "nbformat": 4,
 "nbformat_minor": 5
}
