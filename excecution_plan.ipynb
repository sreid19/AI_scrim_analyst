{
 "cells": [
  {
   "cell_type": "markdown",
   "id": "ed5945ad",
   "metadata": {},
   "source": [
    "# Plan for the Project"
   ]
  },
  {
   "cell_type": "markdown",
   "id": "084d3f41",
   "metadata": {},
   "source": [
    "## Overview"
   ]
  },
  {
   "cell_type": "markdown",
   "id": "de944fbe-88ee-425c-b316-9fd44c514f47",
   "metadata": {},
   "source": [
    "#### These phases will be:\n",
    "1. **Loading screen**\n",
    "2. **Codcaster or Spectator**\n",
    "3. **Post game scoreboard**\n",
    "4. **Anything else (Background)**\n",
    "\n",
    "#### Runtime optimizations will include:\n",
    "1. The classifier will be run every 60 frames.\n",
    "    - **Specify to users:** We expect 1080p 60FPS uploads.\n",
    "2. We will utilize detector models to confirm certain classifier results.\n",
    "\n",
    "#### During the loading screen phase:\n",
    "1. YOLOv8n detector model designed specifically for the loading screen will detect the map and mode.\n",
    "2. PaddleOCR will read the map and mode.\n",
    "\n",
    "#### During the Codcaster or Spectator phase:\n",
    "1. We will utilize the classifier to determine if we are in codcaster mode or spectator mode.\n",
    "2. In order for stats to be saved, a post game scoreboard must be detected.\n",
    "3. Intelligent check to ensure nothing like a reset has occurred:\n",
    "    - For example, in hardpoint, the time cannot have increased; in control, the rounds cannot decrease; in search, the rounds cannot decrease.\n",
    "4. Hopefully, though, we can depend on the classifier to ensure we understand we are in game.\n",
    "    - **Specify to users:** Patience of 15 seconds tabbing out of application. After that period of time, the app will assume the game has crashed.\n",
    "5. YOLOv8n detector will find all of the non-killfeed elements to track (4 models needed) and the killfeed.\n",
    "\n",
    "#### Post game scoreboard\n",
    "1. YOLOv8n detector finds everything, PaddleOCR reads. Verify killfeed matches, if not flag it."
   ]
  },
  {
   "cell_type": "code",
   "execution_count": null,
   "id": "a03b9854-e0ff-404e-907a-e6483f61e13b",
   "metadata": {},
   "outputs": [],
   "source": []
  }
 ],
 "metadata": {
  "kernelspec": {
   "display_name": "Python 3 (ipykernel)",
   "language": "python",
   "name": "python3"
  },
  "language_info": {
   "codemirror_mode": {
    "name": "ipython",
    "version": 3
   },
   "file_extension": ".py",
   "mimetype": "text/x-python",
   "name": "python",
   "nbconvert_exporter": "python",
   "pygments_lexer": "ipython3",
   "version": "3.11.0"
  }
 },
 "nbformat": 4,
 "nbformat_minor": 5
}
